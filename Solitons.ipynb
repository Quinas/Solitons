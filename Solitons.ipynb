{
 "metadata": {
  "name": "Solitons"
 },
 "nbformat": 3,
 "nbformat_minor": 0,
 "worksheets": [
  {
   "cells": [
    {
     "cell_type": "code",
     "collapsed": false,
     "input": [
      "from IPython.core.display import HTML\n",
      "def css_styling():\n",
      "    styles = open(\"./css/custom.css\", \"r\").read()\n",
      "    return HTML(styles)\n",
      "css_styling()"
     ],
     "language": "python",
     "metadata": {},
     "outputs": [
      {
       "html": [
        "<style>\n",
        "    @font-face {\n",
        "        font-family: \"Computer Modern\";\n",
        "        src: url('http://mirrors.ctan.org/fonts/cm-unicode/fonts/otf/cmunss.otf');\n",
        "    }\n",
        "    div.cell{\n",
        "        width:800px;\n",
        "        margin-left:16% !important;\n",
        "        margin-right:auto;\n",
        "    }\n",
        "    h1 {\n",
        "        font-family: Helvetica, serif;\n",
        "    }\n",
        "    h4{\n",
        "        margin-top:12px;\n",
        "        margin-bottom: 3px;\n",
        "       }\n",
        "    div.text_cell_render{\n",
        "        font-family: Computer Modern, \"Helvetica Neue\", Arial, Helvetica, Geneva, sans-serif;\n",
        "        line-height: 145%;\n",
        "        font-size: 130%;\n",
        "        width:800px;\n",
        "        margin-left:auto;\n",
        "        margin-right:auto;\n",
        "    }\n",
        "    .CodeMirror{\n",
        "            font-family: \"Source Code Pro\", source-code-pro,Consolas, monospace;\n",
        "/*    }\n",
        "    .prompt{\n",
        "        display: None;\n",
        "    }\n",
        "*/\n",
        "    .text_cell_render h5 {\n",
        "        font-weight: 300;\n",
        "        font-size: 16pt;\n",
        "        color: #4057A1;\n",
        "        font-style: italic;\n",
        "        margin-bottom: .5em;\n",
        "        margin-top: 0.5em;\n",
        "        display: block;\n",
        "    }\n",
        "    \n",
        "    .warning{\n",
        "        color: rgb( 240, 20, 20 )\n",
        "        }  \n",
        "</style>\n",
        "<script>\n",
        "    MathJax.Hub.Config({\n",
        "                        TeX: {\n",
        "                           extensions: [\"AMSmath.js\"]\n",
        "                           },\n",
        "                tex2jax: {\n",
        "                    inlineMath: [ ['$','$'], [\"\\\\(\",\"\\\\)\"] ],\n",
        "                    displayMath: [ ['$$','$$'], [\"\\\\[\",\"\\\\]\"] ]\n",
        "                },\n",
        "                displayAlign: 'center', // Change this to 'center' to center equations.\n",
        "                \"HTML-CSS\": {\n",
        "                    styles: {'.MathJax_Display': {\"margin\": 2}}\n",
        "                }\n",
        "        });\n",
        "</script>\n"
       ],
       "output_type": "pyout",
       "prompt_number": 1,
       "text": [
        "<IPython.core.display.HTML at 0x104606b10>"
       ]
      }
     ],
     "prompt_number": 1
    },
    {
     "cell_type": "markdown",
     "metadata": {},
     "source": [
      "Numerical Solitons\n",
      "=====\n",
      "\n",
      "#####Version 0.1\n",
      "\n",
      "In this notebook we will look at a problem described in a problem set provided by the MIT OCW course on [Numerical Methods for Partial Differential Equations](http://ocw.mit.edu/courses/aeronautics-and-astronautics/16-920j-numerical-methods-for-partial-differential-equations-sma-5212-spring-2003/assignments/). Specificially we are going to solve the Korteweg De Vries equation in one dimension using numerical methods.\n",
      "***\n",
      "\n",
      "\n",
      "## A Finite Difference implementation of the Korteweg de Vries Equation\n",
      "\n",
      "The Korteweg de Vries equation can be rendered as \n",
      "\n",
      "$$u_t + 6uu_{x} + u_{xxx} = 0$$\n",
      "\n",
      "We want to find $\\mathcal{O}(\\Delta x^2)$ representations of the spatial derivatives as (central) finite differences. Wikipedia has a table of [finite difference coefficients](http://en.wikipedia.org/wiki/Finite_difference_coefficient), but we can derive the ones we need starting from the Taylor series expansions of the forward and backward differences\n",
      "\\begin{eqnarray}\n",
      "u(x+\\Delta x) &=& u(x) + u_x\\Delta x + \\frac{\\Delta x^2}{2}u_{xx} + \\frac{\\Delta x^3}{3!}u_{xxx} + \\frac{\\Delta x^4}{4!}u_{xxxx} + \\mathcal{O}(\\Delta x)^5 \\\\\\\n",
      "u(x-\\Delta x) &=& u(x) - u_x\\Delta x + \\frac{\\Delta x^2}{2}u_{xx} - \\frac{\\Delta x^3}{3!}u_{xxx} +\\frac{\\Delta x^4}{4!}u_{xxxx} + \\mathcal{O}(\\Delta x)^5 \\\\\\\n",
      "u(x+2\\Delta x) &=& u(x) + 2u_x\\Delta x + 2\\Delta x^2u_{xx} + \\frac{8\\Delta x^3}{3!}u_{xxx} +\\frac{16\\Delta x^4}{4!}u_{xxxx} + \\mathcal{O}(\\Delta x)^5 \\\\\\\n",
      "u(x-2\\Delta x) &=& u(x) - 2u_x\\Delta x + 2\\Delta x^2u_{xx} - \\frac{8\\Delta x^3}{3!}u_{xxx} +\\frac{16\\Delta x^4}{4!}u_{xxxx} + \\mathcal{O}(\\Delta x)^5\n",
      "\\end{eqnarray}\n",
      "\n",
      "Subtracting the second of these from the first gives\n",
      "$$u(x+\\Delta x) - u(x-\\Delta x) = 2u_x(\\Delta x) + \\mathcal{O}(\\Delta x^3)$$\n",
      "or\n",
      "$$u_x(x) = \\frac{u(x+\\Delta x) - u(x-\\Delta x)}{2\\Delta x} + \\mathcal{O}(\\Delta x^2)$$\n",
      "\n",
      "For the other term consider 2(equation 3 - equation 4) + (equation 1 - equation 2),\n",
      "\\begin{eqnarray}\n",
      "&& \\frac{u(x)}{2} + \\Delta x u_x(x) + \\Delta x^2 u_{xx} + \\frac{4}{3!}u_{xxx} + \\frac{8\\Delta x^4}{4!}u_{xxxx}  \\\\\\\n",
      "&-& u(x) - \\Delta x u_{x}(x) - \\frac{\\Delta x^2}{2}u_{xx} -\\frac{\\Delta x^3}{3!}u_{xxx} - \\frac{\\Delta x^4}{4!}u_{xxxx} \\\\\\\n",
      "&+& u(x) - \\Delta x u_{x}(x) + \\frac{\\Delta x^2}{2}u_{xx} -\\frac{\\Delta x^3}{3!}u_{xxx} + \\frac{\\Delta x^4}{4!}u_{xxxx} \\\\\\\n",
      "&-& \\frac{u(x)}{2} + \\Delta x u_x(x) - \\Delta x^2 u_{xx} + \\frac{4}{3!}u_{xxx} - \\frac{8\\Delta x^4}{4!}u_{xxxx} + \\mathcal{O}(\\Delta x^5)\n",
      "&=& \\Delta x^3 u_{xxx}(x) + \\mathcal{O}(\\Delta x^5)\n",
      "\\end{eqnarray}\n",
      "or\n",
      "$$u_{xxx} = \\frac{u(x+2\\Delta x) - 2u(x+\\Delta x) + 2u(x+\\Delta x) - u(x-2\\Delta x)}{\\Delta x^3} + \\mathcal{O}(\\Delta x^2)$$\n",
      "\n",
      "## Von Neumann Stability Analysis \n",
      "If we were to take a simple forward difference for the time derrivative, the Von-Neumann stability analysis allows us to determine an upper bound on acceptable values or $\\Delta t$ give $\\Delta x$. The stability of the solution is determined by the third derivative term, so we analayze $u_t = -u_{xxx}$. Using j to denote finite steps in time and $n$ to denote finite spatial position, we have\n",
      "$$\n",
      "\\frac{u^{j+1}_n - u_n^j}{\\Delta t} = -\\frac{u^j_{n+2}-2u^j_{n+1}+2u^j_{n-1}-u^j_{n-2}}{\\Delta x^3}\n",
      "$$\n",
      "or\n",
      "$$\n",
      "u^{j+1} = u_n^j - \\frac{\\Delta t}{\\Delta x^3}\\left(u_{n+2}^j - 2u_{n+1}^j + 2u_{n-1}^j - u^j_{n-2}\\right)\n",
      "$$\n",
      "The Von-Neumann analysis assumes that errors will grow exponentially and that we are using periodic boundary conditions so\n",
      "$$\n",
      "e^{a(t+\\Delta t)}e^{ik_m x} = e^{at}e^{ik_mx}-\\frac{\\Delta t}{\\Delta x^3}\n",
      "\\left[e^{at}e^{ik_m(x+2\\Delta x)} - 2e^{at}e^{ik_m(x+\\Delta x)} \n",
      "+ 2e^{at}e^{-ik_m(x-\\Delta x)} - e^{at}e^{-ik_m(x-2\\Delta x)}\\right]\n",
      "$$\n",
      "Simplifying this gives\n",
      "\\begin{eqnarray}\n",
      "e^{a\\Delta t} &=& 1 - \\frac{\\Delta t}{\\Delta x^3}\\left[ e^{2ik_m\\Delta x} - 2e^{ik_m\\Delta x} + 2e^{-ik_m\\Delta x} - e^{-2ik_m\\Delta x}\\right] \\\\\\\n",
      "&=& 1 - \\frac{\\Delta t}{\\Delta x^3}\\left[\\sin{(2k_m\\Delta x)} - 2\\sin{(k_m\\Delta x)}\\right]\n",
      "\\end{eqnarray}\n",
      "To achieve stability then, we require\n",
      "$$\\left|1 - \\frac{\\Delta t}{\\Delta x^3}\\left(\\sin{(2k_m\\Delta x)} - 2\\sin{(k_m\\Delta x)}\\right)\\right|$$\n",
      "We need to find the maximum value of $\\sin{(2k_m\\Delta x)} - 2\\sin{(k_m\\Delta x)}$, taking the derivative of this expression we find exreema at $\\cos{2k_m\\Delta x} = cos(k\\Delta x)$. Expanding the first term, we find\n",
      "$$\n",
      "2\\cos^2{k\\Delta x} - 1 = \\cos{k\\Delta x}\n",
      "$$\n",
      "i.e. $\\cos{k\\Delta x} = 1, -1/2$\n",
      "The value at $1$ is a minimum, $-1/2$ is the maximum we are looking for. i.e.\n",
      "$$\n",
      "\\cos{k\\Delta x} = -\\frac{1}{2}\\qquad \\rightarrow \\qquad k\\Delta x = \\frac{2\\pi}{3}+n\\pi\n",
      "$$\n",
      "so that \n",
      "$$\n",
      "\\max{\\left|\\sin{(2k_m\\Delta x)} - 2\\sin{(k_m\\Delta x)}\\right|} = \\frac{3\\sqrt{3}}{2}\n",
      "$$\n",
      "The stability condition is then\n",
      "$$\\Delta t \\leq \\frac{2\\Delta x^3}{3\\sqrt{3}}$$"
     ]
    },
    {
     "cell_type": "code",
     "collapsed": false,
     "input": [
      "import numpy as np\n"
     ],
     "language": "python",
     "metadata": {},
     "outputs": [],
     "prompt_number": 2
    },
    {
     "cell_type": "code",
     "collapsed": false,
     "input": [
      "def kdv(x,t,dx):\n",
      "    up1 = np.hstack([x[1:], x[:1]])\n",
      "    up2 = np.hstack([x[2:], x[:2]])\n",
      "    up3 = np.hstack([x[3:], x[:3]])\n",
      "    up4 = np.hstack([x[4:], x[:4]])\n",
      "    um1 = np.hstack([x[-1:], x[:-1]])\n",
      "    um2 = np.hstack([x[-2:], x[:-2]])\n",
      "    um3 = np.hstack([x[-3:], x[:-3]])\n",
      "    um4 = np.hstack([x[-4:], x[:-4]])\n",
      "    \n",
      "    # O(h^2) Central differences\n",
      "    #ux1 = (up1 - um1) / (2 * dx)\n",
      "    #ux3 = (up2 - 2 * up1 + 2 * um1 - um2) / (2 * dx * dx * dx)\n",
      "\n",
      "    # O(h^4) Central differences\n",
      "    #ux1 = (-(up2 - um2) + 8 * (up1 - um1)) / (12 * dx)\n",
      "    #ux3 = (-(up3 - um3) + 8 * (up2 - um2) - 13 * (up1 - um1)) / (8 * dx * dx * dx)\n",
      "    \n",
      "    #O(h^6) Central differences\n",
      "    ux1 = ((up3 - um3) - 9 * (up2 - um2) + 45 * (up1 - um1)) / (60 * dx)\n",
      "    ux3 = (7 * (up4 - um4) - 72 * (up3 - um3) + 338 * (up2 - um2) - 488 * (up1 - um1)) / (240 * dx * dx * dx)\n",
      "    \n",
      "    return -6 * x * ux1 - ux3"
     ],
     "language": "python",
     "metadata": {},
     "outputs": [],
     "prompt_number": 3
    },
    {
     "cell_type": "code",
     "collapsed": false,
     "input": [
      "def rk4(x, dt, dx):\n",
      "    k1 = dt * kdv(x, 0, dx)\n",
      "    k2 = dt * kdv(x + k1 * 0.5, 0, dx)\n",
      "    k3 = dt * kdv(x + k2 * 0.5, 0, dx)\n",
      "    k4 = dt * kdv(x + k3, 0, dx)\n",
      "    return x + 1/6. * (k1 + 2*k2 + 2*k3 + k4)"
     ],
     "language": "python",
     "metadata": {},
     "outputs": [],
     "prompt_number": 4
    },
    {
     "cell_type": "code",
     "collapsed": false,
     "input": [
      "def kdvExact(x,t,v,x0):\n",
      "    a = np.cosh(0.5 * np.sqrt(v) * (x - v * t - x0))\n",
      "    return v / (2 * a * a)\n",
      "    \n"
     ],
     "language": "python",
     "metadata": {},
     "outputs": [],
     "prompt_number": 5
    },
    {
     "cell_type": "code",
     "collapsed": false,
     "input": [
      "dx = 0.1\n",
      "\n",
      "2 * dx * dx * dx / (3*np.sqrt(3))"
     ],
     "language": "python",
     "metadata": {},
     "outputs": [
      {
       "output_type": "pyout",
       "prompt_number": 6,
       "text": [
        "0.00038490017945975059"
       ]
      }
     ],
     "prompt_number": 6
    },
    {
     "cell_type": "markdown",
     "metadata": {},
     "source": [
      "Starting from this value for $\\Delta x$, the Von-Neumann condition above gives us a worst-case condition on the size of $\\Delta t_{max}=\\frac{2\\Delta x^3}{3\\sqrt{3}}\\approx 0.4e-4$"
     ]
    },
    {
     "cell_type": "code",
     "collapsed": false,
     "input": [
      "2 * dx ** 3 / (3*np.sqrt(3))"
     ],
     "language": "python",
     "metadata": {},
     "outputs": [
      {
       "output_type": "pyout",
       "prompt_number": 7,
       "text": [
        "0.00038490017945975059"
       ]
      }
     ],
     "prompt_number": 7
    },
    {
     "cell_type": "code",
     "collapsed": false,
     "input": [
      "dx = 0.1\n",
      "dt = 1e-4\n",
      "x = np.arange(-8,8,dx)\n",
      "y = kdvExact(x,0,16.,0)"
     ],
     "language": "python",
     "metadata": {},
     "outputs": [],
     "prompt_number": 8
    },
    {
     "cell_type": "markdown",
     "metadata": {},
     "source": [
      "Initial Conditions\n",
      "=======\n",
      "The simplest way to create solitons is to use kdvExact to provide the initial conditions, e.g.\n",
      "\n",
      "* *A single soliton*: y = kdvExact(x, 0, 16., 0)\n",
      "* *A pair of solitons*: y = kdvExact(x, 0, 16., 4) + kdvExact(x, 0, 4, -4)\n",
      "* *A gaussian*: y = 8 * np.exp(-x*x)"
     ]
    },
    {
     "cell_type": "code",
     "collapsed": false,
     "input": [
      "y = kdvExact(x, 0, 16, 4) + kdvExact(x, 0, 4, -4)"
     ],
     "language": "python",
     "metadata": {},
     "outputs": [],
     "prompt_number": 16
    },
    {
     "cell_type": "code",
     "collapsed": false,
     "input": [
      "#from scipy.integrate import odeint\n",
      "#res = odeint(kdv,y,np.linspace(0,0.1,1000),args=(dx,))"
     ],
     "language": "python",
     "metadata": {},
     "outputs": [],
     "prompt_number": 9
    },
    {
     "cell_type": "code",
     "collapsed": false,
     "input": [
      "import matplotlib.pylab as plt"
     ],
     "language": "python",
     "metadata": {},
     "outputs": [],
     "prompt_number": 17
    },
    {
     "cell_type": "code",
     "collapsed": false,
     "input": [
      "fig = plt.figure()\n",
      "ax = plt.axes(xlim=(-8, 8), ylim=(-1, 9))\n",
      "line, = ax.plot([], [], lw=2)"
     ],
     "language": "python",
     "metadata": {},
     "outputs": [],
     "prompt_number": 18
    },
    {
     "cell_type": "code",
     "collapsed": false,
     "input": [
      "def init():\n",
      "    line.set_data([], [])"
     ],
     "language": "python",
     "metadata": {},
     "outputs": [],
     "prompt_number": 19
    },
    {
     "cell_type": "markdown",
     "metadata": {},
     "source": [
      "I need to skip some of the frames in the animation. Some combination of options to FuncAnimation will probably acheive the same result but I can't seem to find the right ones, so for the momen I just look at every $50^{th}$ step"
     ]
    },
    {
     "cell_type": "code",
     "collapsed": false,
     "input": [
      "def animate(i):\n",
      "    global y\n",
      "    for i in range(50):\n",
      "        y = rk4(y, dt, dx)\n",
      "    line.set_data(x, y)\n",
      "    return line"
     ],
     "language": "python",
     "metadata": {},
     "outputs": [],
     "prompt_number": 20
    },
    {
     "cell_type": "code",
     "collapsed": false,
     "input": [
      "from matplotlib import animation\n",
      "\n",
      "# N.B. The time elapsed here is going to be (frames * skip)*dt. For dt=1e-4, fames=400 gives 2 seconds.\n",
      "anim = animation.FuncAnimation(fig, animate, init_func=init, frames=400, interval = 20, repeat=False) "
     ],
     "language": "python",
     "metadata": {},
     "outputs": [],
     "prompt_number": 21
    },
    {
     "cell_type": "code",
     "collapsed": false,
     "input": [
      "plt.show()"
     ],
     "language": "python",
     "metadata": {},
     "outputs": [],
     "prompt_number": 22
    },
    {
     "cell_type": "code",
     "collapsed": false,
     "input": [],
     "language": "python",
     "metadata": {},
     "outputs": [],
     "prompt_number": 15
    }
   ],
   "metadata": {}
  }
 ]
}