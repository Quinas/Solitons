{
 "metadata": {
  "name": "Solitons Two Soliton"
 },
 "nbformat": 3,
 "nbformat_minor": 0,
 "worksheets": [
  {
   "cells": [
    {
     "cell_type": "markdown",
     "metadata": {},
     "source": [
      "# Numerical Solitons\n",
      "\n",
      "## A Finite Difference implementation of the Korteweg de Vries Equation\n",
      "\n",
      "The Korteweg de Vries equation can be rendered as \n",
      "\n",
      "$$u_t + 6uu_{x} + u_{xxx} = 0$$\n",
      "\n",
      "We want to find $\\mathcal{O}(\\Delta x^2)$ representations of the spatial derivatives as (central) finite differences. Wikipedia has a table of [finite difference coefficients](http://en.wikipedia.org/wiki/Finite_difference_coefficient), but we can derive the ones we need starting from the Taylor series expansions of the forward and backward differences\n",
      "$$u(x+\\Delta x) = u(x) + u_x\\Delta x + \\frac{\\Delta x^2}{2}u_{xx} + \\frac{\\Delta x^3}{3!}u_{xxx} +\\frac{\\Delta x^4}{4!}u_{xxxx} + \\mathcal{O}(\\Delta x)^5$$\n",
      "$$u(x-\\Delta x) = u(x) - u_x\\Delta x + \\frac{\\Delta x^2}{2}u_{xx} - \\frac{\\Delta x^3}{3!}u_{xxx} +\\frac{\\Delta x^4}{4!}u_{xxxx} + \\mathcal{O}(\\Delta x)^5$$\n",
      "$$u(x+2\\Delta x) = u(x) + 2u_x\\Delta x + 2\\Delta x^2u_{xx} + \\frac{8\\Delta x^3}{3!}u_{xxx} +\\frac{16\\Delta x^4}{4!}u_{xxxx} + \\mathcal{O}(\\Delta x)^5$$\n",
      "$$u(x-2\\Delta x) = u(x) - 2u_x\\Delta x + 2\\Delta x^2u_{xx} - \\frac{8\\Delta x^3}{3!}u_{xxx} +\\frac{16\\Delta x^4}{4!}u_{xxxx} + \\mathcal{O}(\\Delta x)^5$$\n",
      "\n",
      "Subtracting the second of these from the first gives\n",
      "$$u(x+\\Delta x) - u(x-\\Delta x) = 2u_x(\\Delta x) + \\mathcal{O}(\\Delta x^3)$$\n",
      "or\n",
      "$$u_x(x) = \\frac{u(x+\\Delta x) - u(x-\\Delta x)}{2\\Delta x} + \\mathcal{O}(\\Delta x^2)$$\n",
      "\n",
      "For the other term consider 2(equation 3 - equation 4) + (equation 1 - equation 2),\n",
      "\\begin{eqnarray}\n",
      "&& \\frac{u(x)}{2} + \\Delta x u_x(x) + \\Delta x^2 u_{xx} + \\frac{4}{3!}u_{xxx} + \\frac{8\\Delta x^4}{4!}u_{xxxx}  \\\\\\\n",
      "&-& u(x) - \\Delta x u_{x}(x) - \\frac{\\Delta x^2}{2}u_{xx} -\\frac{\\Delta x^3}{3!}u_{xxx} - \\frac{\\Delta x^4}{4!}u_{xxxx} \\\\\\\n",
      "&+& u(x) - \\Delta x u_{x}(x) + \\frac{\\Delta x^2}{2}u_{xx} -\\frac{\\Delta x^3}{3!}u_{xxx} + \\frac{\\Delta x^4}{4!}u_{xxxx} \\\\\\\n",
      "&-& \\frac{u(x)}{2} + \\Delta x u_x(x) - \\Delta x^2 u_{xx} + \\frac{4}{3!}u_{xxx} - \\frac{8\\Delta x^4}{4!}u_{xxxx} + \\mathcal{O}(\\Delta x^5)\n",
      "&=& \\Delta x^3 u_{xxx}(x) + \\mathcal{O}(\\Delta x^5)\n",
      "\\end{eqnarray}\n",
      "or\n",
      "$$u_{xxx} = \\frac{u(x+2\\Delta x) - 2u(x+\\Delta x) + 2u(x+\\Delta x) - u(x-2\\Delta x)}{\\Delta x^3} + \\mathcal{O}(\\Delta x^2)$$\n",
      "\n",
      "## Von Neumann Stability Analysis \n",
      "If we were to take a simple forward difference for the time derrivative, the Von-Neumann stability analysis allows us to determine an upper bound on acceptable values or $\\Delta t$ give $\\Delta x$. The stability of the solution is determined by the third derivative term, so we analayze $u_t = -u_{xxx}$. Using j to denote finite steps in time and $n$ to denote finite spatial position, we have\n",
      "$$\n",
      "\\frac{u^{j+1}_n - u_n^j}{\\Delta t} = -\\frac{u^j_{n+2}-2u^j_{n+1}+2u^j_{n-1}-u^j_{n-2}}{\\Delta x^3}\n",
      "$$\n",
      "or\n",
      "$$\n",
      "u^{j+1} = u_n^j - \\frac{\\Delta t}{\\Delta x^3}\\left(u_{n+2}^j - 2u_{n+1}^j + 2u_{n-1}^j - u^j_{n-2}\\right)\n",
      "$$\n",
      "The Von-Neumann analysis assumes that errors will grow exponentially and that we are using periodic boundary conditions so\n",
      "$$\n",
      "e^{a(t+\\Delta t)}e^{ik_m x} = e^{at}e^{ik_mx}-\\frac{\\Delta t}{\\Delta x^3}\n",
      "\\left[e^{at}e^{ik_m(x+2\\Delta x)} - 2e^{at}e^{ik_m(x+\\Delta x)} \n",
      "+ 2e^{at}e^{-ik_m(x-\\Delta x)} - e^{at}e^{-ik_m(x-2\\Delta x)}\\right]\n",
      "$$\n",
      "Simplifying this gives\n",
      "\\begin{eqnarray}\n",
      "e^{a\\Delta t} &=& 1 - \\frac{\\Delta t}{\\Delta x^3}\\left[ e^{2ik_m\\Delta x} - 2e^{ik_m\\Delta x} + 2e^{-ik_m\\Delta x} - e^{-2ik_m\\Delta x}\\right] \\\\\\\n",
      "&=& 1 - \\frac{\\Delta t}{\\Delta x^3}\\left[\\sin{(2k_m\\Delta x)} - 2\\sin{(k_m\\Delta x)}\\right]\n",
      "\\end{eqnarray}\n",
      "To achieve stability then, we require\n",
      "$$\\left|1 - \\frac{\\Delta t}{\\Delta x^3}\\left(\\sin{(2k_m\\Delta x)} - 2\\sin{(k_m\\Delta x)}\\right)\\right|$$\n",
      "We need to find the maximum value of $\\sin{(2k_m\\Delta x)} - 2\\sin{(k_m\\Delta x)}$, taking the derivative of this expression we find exreema at $\\cos{2k_m\\Delta x} = cos(k\\Delta x)$. Expanding the first term, we find\n",
      "$$\n",
      "2\\cos^2{k\\Delta x} - 1 = \\cos{k\\Delta x}\n",
      "$$\n",
      "i.e. $\\cos{k\\Delta x} = 1, -1/2$\n",
      "The value at $1$ is a minimum, $-1/2$ is the maximum we are looking for. i.e.\n",
      "$$\n",
      "\\cos{k\\Delta x} = -\\frac{1}{2}\\qquad \\rightarrow \\qquad k\\Delta x = \\frac{2\\pi}{3}+n\\pi\n",
      "$$\n",
      "so that \n",
      "$$\n",
      "\\max{\\left|\\sin{(2k_m\\Delta x)} - 2\\sin{(k_m\\Delta x)}\\right|} = \\frac{3\\sqrt{3}}{2}\n",
      "$$\n",
      "The stability condition is then\n",
      "$$\\Delta t \\leq \\frac{2\\Delta x^3}{3\\sqrt{3}}$$"
     ]
    },
    {
     "cell_type": "code",
     "collapsed": false,
     "input": [
      "import numpy as np"
     ],
     "language": "python",
     "metadata": {},
     "outputs": [],
     "prompt_number": 1
    },
    {
     "cell_type": "code",
     "collapsed": false,
     "input": [
      "def kdv(x,t,dx):\n",
      "    up1 = np.hstack([x[1:], x[:1]])\n",
      "    um1 = np.hstack([x[-1:],x[:-1]])\n",
      "    up2 = np.hstack([x[2:], x[:2]])\n",
      "    um2 = np.hstack([x[-2:], x[:-2]])\n",
      "    \n",
      "    ux1 = (up1 - um1) / (2 * dx)\n",
      "    ux3 = (up2 - 2 * up1 + 2 * um1 - um2) / (2 * dx * dx * dx)\n",
      "\n",
      "    return -6 * x * ux1 - ux3"
     ],
     "language": "python",
     "metadata": {},
     "outputs": [],
     "prompt_number": 2
    },
    {
     "cell_type": "code",
     "collapsed": false,
     "input": [
      "def rk4(x, dt, dx):\n",
      "    k1 = dt * kdv(x, 0, dx)\n",
      "    k2 = dt * kdv(x + k1 * 0.5, 0, dx)\n",
      "    k3 = dt * kdv(x + k2 * 0.5, 0, dx)\n",
      "    k4 = dt * kdv(x + k3, 0, dx)\n",
      "    return x + 1/6. * (k1 + 2*k2 + 2*k3 + k4)"
     ],
     "language": "python",
     "metadata": {},
     "outputs": [],
     "prompt_number": 3
    },
    {
     "cell_type": "code",
     "collapsed": false,
     "input": [
      "def kdvExact(x,t,v,x0):\n",
      "    a = np.cosh(0.5 * np.sqrt(v) * (x - v * t - x0))\n",
      "    return v / (2 * a * a)\n",
      "    \n"
     ],
     "language": "python",
     "metadata": {},
     "outputs": [],
     "prompt_number": 4
    },
    {
     "cell_type": "code",
     "collapsed": false,
     "input": [
      "dx = 0.1\n",
      "\n",
      "2 * dx * dx * dx / (3*np.sqrt(3))"
     ],
     "language": "python",
     "metadata": {},
     "outputs": [
      {
       "output_type": "pyout",
       "prompt_number": 5,
       "text": [
        "0.00038490017945975059"
       ]
      }
     ],
     "prompt_number": 5
    },
    {
     "cell_type": "markdown",
     "metadata": {},
     "source": [
      "Starting from this value for $\\Delta x$, the Von-Neumann condition above gives us a worst-case condition on the size of $\\Delta t_{max}=\\frac{2\\Delta x^3}{3\\sqrt{3}}\\approx 0.4e-4$"
     ]
    },
    {
     "cell_type": "code",
     "collapsed": false,
     "input": [
      "2 * dx ** 3 / (3*np.sqrt(3))"
     ],
     "language": "python",
     "metadata": {},
     "outputs": [
      {
       "output_type": "pyout",
       "prompt_number": 6,
       "text": [
        "0.00038490017945975059"
       ]
      }
     ],
     "prompt_number": 6
    },
    {
     "cell_type": "code",
     "collapsed": false,
     "input": [
      "dx = 0.1\n",
      "dt = 1e-4\n",
      "x = np.arange(-8,8,dx)\n",
      "y = 6./(np.cosh(x)*np.cosh(x))"
     ],
     "language": "python",
     "metadata": {},
     "outputs": [],
     "prompt_number": 9
    },
    {
     "cell_type": "code",
     "collapsed": false,
     "input": [
      "import matplotlib.pylab as plt"
     ],
     "language": "python",
     "metadata": {},
     "outputs": [],
     "prompt_number": 10
    },
    {
     "cell_type": "code",
     "collapsed": false,
     "input": [
      "fig = plt.figure()\n",
      "ax = plt.axes(xlim=(-8, 8), ylim=(-1, 9))\n",
      "line, = ax.plot([], [], lw=2)"
     ],
     "language": "python",
     "metadata": {},
     "outputs": [],
     "prompt_number": 11
    },
    {
     "cell_type": "code",
     "collapsed": false,
     "input": [
      "def init():\n",
      "    line.set_data([], [])"
     ],
     "language": "python",
     "metadata": {},
     "outputs": [],
     "prompt_number": 12
    },
    {
     "cell_type": "markdown",
     "metadata": {},
     "source": [
      "I need to skip some of the frames in the animation. Some combination of options to FuncAnimation will probably acheive the same result but I can't seem to find the right ones, so for the momen I just look at every $50^{th}$ step"
     ]
    },
    {
     "cell_type": "code",
     "collapsed": false,
     "input": [
      "def animate(i):\n",
      "    global y\n",
      "    for i in range(50):\n",
      "        y = rk4(y, dt, dx)\n",
      "    line.set_data(x, y)\n",
      "    return line"
     ],
     "language": "python",
     "metadata": {},
     "outputs": [],
     "prompt_number": 13
    },
    {
     "cell_type": "code",
     "collapsed": false,
     "input": [
      "from matplotlib import animation\n",
      "\n",
      "# N.B. The time elapsed here is going to be (frames * skip)*dt. For dt=1e-4, fames=400 gives 2 seconds.\n",
      "anim = animation.FuncAnimation(fig, animate, init_func=init, frames=400, interval = 20, repeat=False) "
     ],
     "language": "python",
     "metadata": {},
     "outputs": [],
     "prompt_number": 14
    },
    {
     "cell_type": "code",
     "collapsed": false,
     "input": [
      "#anim.save('soliton.mp4', fps=30)\n",
      "plt.show()\n"
     ],
     "language": "python",
     "metadata": {},
     "outputs": [
      {
       "ename": "AttributeError",
       "evalue": "'NoneType' object has no attribute 'tk'",
       "output_type": "pyerr",
       "traceback": [
        "\u001b[0;31m---------------------------------------------------------------------------\u001b[0m\n\u001b[0;31mAttributeError\u001b[0m                            Traceback (most recent call last)",
        "\u001b[0;32m<ipython-input-15-6215ce5ceecc>\u001b[0m in \u001b[0;36m<module>\u001b[0;34m()\u001b[0m\n\u001b[1;32m      1\u001b[0m \u001b[0;31m#anim.save('soliton.mp4', fps=30)\u001b[0m\u001b[0;34m\u001b[0m\u001b[0;34m\u001b[0m\u001b[0m\n\u001b[0;32m----> 2\u001b[0;31m \u001b[0mplt\u001b[0m\u001b[0;34m.\u001b[0m\u001b[0mshow\u001b[0m\u001b[0;34m(\u001b[0m\u001b[0;34m)\u001b[0m\u001b[0;34m\u001b[0m\u001b[0m\n\u001b[0m",
        "\u001b[0;32m/usr/lib/pymodules/python2.7/matplotlib/pyplot.pyc\u001b[0m in \u001b[0;36mshow\u001b[0;34m(*args, **kw)\u001b[0m\n\u001b[1;32m    141\u001b[0m     \"\"\"\n\u001b[1;32m    142\u001b[0m     \u001b[0;32mglobal\u001b[0m \u001b[0m_show\u001b[0m\u001b[0;34m\u001b[0m\u001b[0m\n\u001b[0;32m--> 143\u001b[0;31m     \u001b[0m_show\u001b[0m\u001b[0;34m(\u001b[0m\u001b[0;34m*\u001b[0m\u001b[0margs\u001b[0m\u001b[0;34m,\u001b[0m \u001b[0;34m**\u001b[0m\u001b[0mkw\u001b[0m\u001b[0;34m)\u001b[0m\u001b[0;34m\u001b[0m\u001b[0m\n\u001b[0m\u001b[1;32m    144\u001b[0m \u001b[0;34m\u001b[0m\u001b[0m\n\u001b[1;32m    145\u001b[0m \u001b[0;34m\u001b[0m\u001b[0m\n",
        "\u001b[0;32m/usr/lib/pymodules/python2.7/matplotlib/backend_bases.pyc\u001b[0m in \u001b[0;36m__call__\u001b[0;34m(self, block)\u001b[0m\n\u001b[1;32m    107\u001b[0m \u001b[0;34m\u001b[0m\u001b[0m\n\u001b[1;32m    108\u001b[0m         \u001b[0;32mif\u001b[0m \u001b[0;32mnot\u001b[0m \u001b[0mis_interactive\u001b[0m\u001b[0;34m(\u001b[0m\u001b[0;34m)\u001b[0m\u001b[0;34m:\u001b[0m\u001b[0;34m\u001b[0m\u001b[0m\n\u001b[0;32m--> 109\u001b[0;31m             \u001b[0mself\u001b[0m\u001b[0;34m.\u001b[0m\u001b[0mmainloop\u001b[0m\u001b[0;34m(\u001b[0m\u001b[0;34m)\u001b[0m\u001b[0;34m\u001b[0m\u001b[0m\n\u001b[0m\u001b[1;32m    110\u001b[0m \u001b[0;34m\u001b[0m\u001b[0m\n\u001b[1;32m    111\u001b[0m     \u001b[0;32mdef\u001b[0m \u001b[0mmainloop\u001b[0m\u001b[0;34m(\u001b[0m\u001b[0mself\u001b[0m\u001b[0;34m)\u001b[0m\u001b[0;34m:\u001b[0m\u001b[0;34m\u001b[0m\u001b[0m\n",
        "\u001b[0;32m/usr/lib/pymodules/python2.7/matplotlib/backends/backend_tkagg.pyc\u001b[0m in \u001b[0;36mmainloop\u001b[0;34m(self)\u001b[0m\n\u001b[1;32m     67\u001b[0m \u001b[0;32mclass\u001b[0m \u001b[0mShow\u001b[0m\u001b[0;34m(\u001b[0m\u001b[0mShowBase\u001b[0m\u001b[0;34m)\u001b[0m\u001b[0;34m:\u001b[0m\u001b[0;34m\u001b[0m\u001b[0m\n\u001b[1;32m     68\u001b[0m     \u001b[0;32mdef\u001b[0m \u001b[0mmainloop\u001b[0m\u001b[0;34m(\u001b[0m\u001b[0mself\u001b[0m\u001b[0;34m)\u001b[0m\u001b[0;34m:\u001b[0m\u001b[0;34m\u001b[0m\u001b[0m\n\u001b[0;32m---> 69\u001b[0;31m         \u001b[0mTk\u001b[0m\u001b[0;34m.\u001b[0m\u001b[0mmainloop\u001b[0m\u001b[0;34m(\u001b[0m\u001b[0;34m)\u001b[0m\u001b[0;34m\u001b[0m\u001b[0m\n\u001b[0m\u001b[1;32m     70\u001b[0m \u001b[0;34m\u001b[0m\u001b[0m\n\u001b[1;32m     71\u001b[0m \u001b[0mshow\u001b[0m \u001b[0;34m=\u001b[0m \u001b[0mShow\u001b[0m\u001b[0;34m(\u001b[0m\u001b[0;34m)\u001b[0m\u001b[0;34m\u001b[0m\u001b[0m\n",
        "\u001b[0;32m/usr/lib/python2.7/lib-tk/Tkinter.py\u001b[0m in \u001b[0;36mmainloop\u001b[0;34m(n)\u001b[0m\n\u001b[1;32m    362\u001b[0m \u001b[0;32mdef\u001b[0m \u001b[0mmainloop\u001b[0m\u001b[0;34m(\u001b[0m\u001b[0mn\u001b[0m\u001b[0;34m=\u001b[0m\u001b[0;36m0\u001b[0m\u001b[0;34m)\u001b[0m\u001b[0;34m:\u001b[0m\u001b[0;34m\u001b[0m\u001b[0m\n\u001b[1;32m    363\u001b[0m     \u001b[0;34m\"\"\"Run the main loop of Tcl.\"\"\"\u001b[0m\u001b[0;34m\u001b[0m\u001b[0m\n\u001b[0;32m--> 364\u001b[0;31m     \u001b[0m_default_root\u001b[0m\u001b[0;34m.\u001b[0m\u001b[0mtk\u001b[0m\u001b[0;34m.\u001b[0m\u001b[0mmainloop\u001b[0m\u001b[0;34m(\u001b[0m\u001b[0mn\u001b[0m\u001b[0;34m)\u001b[0m\u001b[0;34m\u001b[0m\u001b[0m\n\u001b[0m\u001b[1;32m    365\u001b[0m \u001b[0;34m\u001b[0m\u001b[0m\n\u001b[1;32m    366\u001b[0m \u001b[0mgetint\u001b[0m \u001b[0;34m=\u001b[0m \u001b[0mint\u001b[0m\u001b[0;34m\u001b[0m\u001b[0m\n",
        "\u001b[0;31mAttributeError\u001b[0m: 'NoneType' object has no attribute 'tk'"
       ]
      }
     ],
     "prompt_number": 15
    },
    {
     "cell_type": "code",
     "collapsed": false,
     "input": [],
     "language": "python",
     "metadata": {},
     "outputs": []
    }
   ],
   "metadata": {}
  }
 ]
}